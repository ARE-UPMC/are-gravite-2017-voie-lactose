{
 "cells": [
  {
   "cell_type": "markdown",
   "metadata": {},
   "source": [
    "# La Voie Lactée et la matière noire"
   ]
  },
  {
   "cell_type": "markdown",
   "metadata": {},
   "source": [
    "## Étudiants:"
   ]
  },
  {
   "cell_type": "markdown",
   "metadata": {},
   "source": [
    " Alric Meunier, Benjamin Lanuza, Léo-Paul Decloitre, Antoine Thomas. "
   ]
  },
  {
   "cell_type": "markdown",
   "metadata": {},
   "source": [
    "## Semaine 1"
   ]
  },
  {
   "cell_type": "markdown",
   "metadata": {},
   "source": [
    "Nous avons cherché un angle d'attaque, afin de construire un plan.\n",
    "### Plan\n",
    "#### Introduction\n",
    "   - D'où vient la théorie ?\n",
    "   \n",
    "   - Principe\n",
    "   \n",
    "   - Autres théories\n",
    "    \n",
    "#### Développement\n",
    "   - Comment observer la matière noire ?\n",
    "   \n",
    "   - Quelles sont les interactions entre matière noire et Voie lactée ?\n",
    "     "
   ]
  },
  {
   "cell_type": "code",
   "execution_count": null,
   "metadata": {
    "collapsed": true
   },
   "outputs": [],
   "source": []
  }
 ],
 "metadata": {
  "kernelspec": {
   "display_name": "Python 3",
   "language": "python",
   "name": "python3"
  },
  "language_info": {
   "codemirror_mode": {
    "name": "ipython",
    "version": 3
   },
   "file_extension": ".py",
   "mimetype": "text/x-python",
   "name": "python",
   "nbconvert_exporter": "python",
   "pygments_lexer": "ipython3",
   "version": "3.4.1"
  }
 },
 "nbformat": 4,
 "nbformat_minor": 0
}
