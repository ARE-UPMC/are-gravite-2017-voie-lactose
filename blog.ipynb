{
 "cells": [
  {
   "cell_type": "markdown",
   "metadata": {},
   "source": [
    "# La Voie LactÃ©e et la matiÃ¨re noire"
   ]
  },
  {
   "cell_type": "markdown",
   "metadata": {},
   "source": [
    "## Ã‰tudiants:"
   ]
  },
  {
   "cell_type": "markdown",
   "metadata": {},
   "source": [
    " Alric Meunier, Benjamin Lanuza, LÃ©o-Paul Decloitre, Antoine Thomas. "
   ]
  },
  {
   "cell_type": "markdown",
   "metadata": {},
   "source": [
    "## Semaine 1"
   ]
  },
  {
   "cell_type": "markdown",
   "metadata": {},
   "source": [
    "Nous avons cherchÃ© un angle d'attaque, afin de construire un plan.\n",
    "### Plan\n",
    "#### Introduction\n",
    "   - D'oÃ¹ vient la thÃ©orie ?\n",
    "   \n",
    "   - Principe\n",
    "   \n",
    "   - Autres thÃ©ories\n",
    "    \n",
    "#### DÃ©veloppement\n",
    "   - Comment observer la matiÃ¨re noire ?\n",
    "   \n",
    "   - Quelles sont les interactions entre matiÃ¨re noire et Voie lactÃ©e ?\n",
    "     "
   ]
  },
  {
   "cell_type": "code",
   "execution_count": null,
   "metadata": {
    "collapsed": true
   },
   "outputs": [],
   "source": []
  }
 ],
 "metadata": {
  "kernelspec": {
   "display_name": "Python 3",
   "language": "python",
   "name": "python3"
  },
  "language_info": {
   "codemirror_mode": {
    "name": "ipython",
    "version": 3
   },
   "file_extension": ".py",
   "mimetype": "text/x-python",
   "name": "python",
   "nbconvert_exporter": "python",
   "pygments_lexer": "ipython3",
   "version": "3.4.1"
  }
 },
 "nbformat": 4,
 "nbformat_minor": 0
}

