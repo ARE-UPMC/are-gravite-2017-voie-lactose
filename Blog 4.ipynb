{
 "cells": [
  {
   "cell_type": "markdown",
   "metadata": {},
   "source": [
    "# La Voie Lactée et la matière noire"
   ]
  },
  {
   "cell_type": "markdown",
   "metadata": {},
   "source": [
    "## Étudiants:"
   ]
  },
  {
   "cell_type": "markdown",
   "metadata": {},
   "source": [
    " Alric Meunier, Benjamin Lanuza, Léo-Paul Decloitre, Antoine Thomas. "
   ]
  },
  {
   "cell_type": "markdown",
   "metadata": {},
   "source": [
    "## Semaine 1"
   ]
  },
  {
   "cell_type": "markdown",
   "metadata": {},
   "source": [
    "Nous avons cherché un angle d'attaque, afin de construire un plan.\n",
    "### Plan\n",
    "#### Introduction\n",
    "   - D'où vient la théorie ?\n",
    "   \n",
    "   - Principe\n",
    "   \n",
    "   - Autres théories\n",
    "    \n",
    "#### Développement\n",
    "   - Comment observer la matière noire ?\n",
    "   \n",
    "   - Quelles sont les interactions entre matière noire et Voie lactée ?\n",
    "     "
   ]
  },
  {
   "cell_type": "markdown",
   "metadata": {},
   "source": [
    "Nous nous sommes réparti les tâches:\n",
    "   - Benjamin se charge de la simulation de la galaxie en python.\n",
    "   \n",
    "   - Alric recherche des informations dans des articles sur internet.\n",
    "   \n",
    "   - Léo-Paul et Antoine s'occupent des observations par le site EU HOU."
   ]
  },
  {
   "cell_type": "markdown",
   "metadata": {
    "collapsed": true
   },
   "source": [
    "## Semaine 2"
   ]
  },
  {
   "cell_type": "markdown",
   "metadata": {},
   "source": [
    "### Physique : \n",
    "Nous avons effectué des calculs permettant de mettre en place la courbe de rotation de la Voie Lactée et de mieux comprendre la mise en place de cette dernière, puis nous avons commencé la mise en place du podcast qui sera sous forme d'un Power Point permettant ainsi d'y insérer des vidéos et commentaires audio par dessus les différentes slides. Nous trions aussi les  vidéos des séances kinesthésique afin de prendre les plus pertinentes dans la mise en place de notre podcast."
   ]
  },
  {
   "cell_type": "markdown",
   "metadata": {},
   "source": [
    "### Informatique : \n",
    "On a commencé par la création d'une fonction permettant de générer, dans un plan, des points (représentant les étoiles) de manière aléatoire. Ainsi on viserai ensuite à créer une fonction permettant de créer les fameux bras de la galaxie, qui nous permettrait ensuite de constituer une prémice à la mise en place de notre programme de simulation de la Voie Lactée."
   ]
  },
  {
   "cell_type": "markdown",
   "metadata": {
    "collapsed": true
   },
   "source": [
    "## Semaine 3\n",
    "\n",
    "### Informatique\n",
    "\n",
    "Nous avons essayé de faire tourner les étoiles autour du centre de la galaxie, les étoiles étant présentes dans disque mis à l'échelle. On essaye aussi de détecter le nombre d'étoiles avec lesquelles une certaine étoile intéragit.\n",
    "\n",
    "### Physique\n",
    "\n",
    "Nous avons modélisé la courbe des vitesses de rotation de la galaxie à partir des valeurs que l'on a trouvé à partir du simulateur, et on essaye de modéliser les bras de la galaxie avec ces valeurs.\n",
    "\n"
   ]
  },
  {
   "cell_type": "markdown",
   "metadata": {
    "collapsed": true
   },
   "source": [
    "## Semaine 4\n"
   ]
  },
  {
   "cell_type": "markdown",
   "metadata": {},
   "source": [
    "### Physique"
   ]
  },
  {
   "cell_type": "markdown",
   "metadata": {},
   "source": [
    "Nous avons modélisé les bras spiraux de la Voie Lactée avec,sur une partie des bras spiraux, la représentation de nuages de gaz. Nous avons d'abord cherché à modéliser une spirale à deux bras puis nous avons implémenté les données expérimentales des positions de nuages de gazs sur la spirale."
   ]
  },
  {
   "cell_type": "markdown",
   "metadata": {},
   "source": [
    "### Informatique"
   ]
  },
  {
   "cell_type": "markdown",
   "metadata": {},
   "source": [
    "Nous avons rajouter la matière noire dans le programme en prenant donc en compte sa masse théorique, nous avons aussi perfectionné la fonction permettant d'animer nos points afin de mettre plusieurs points en mouvements autour du centre de la galaxie."
   ]
  },
  {
   "cell_type": "markdown",
   "metadata": {},
   "source": [
    "## Semaine 5"
   ]
  },
  {
   "cell_type": "markdown",
   "metadata": {},
   "source": [
    "### Physique "
   ]
  },
  {
   "cell_type": "markdown",
   "metadata": {},
   "source": [
    "Nous avons regroupé nos algorithmes de création des bras spiraux et de mise en place de la courbe de vitesse de rotation de la galaxie tout en expliquant à quoi servait chacune de nos fonctions. Puis nous avons continué à travailler sur le Power Point afin de pouvoir mettre en place notre podcast."
   ]
  },
  {
   "cell_type": "markdown",
   "metadata": {},
   "source": [
    "### Informatique"
   ]
  },
  {
   "cell_type": "markdown",
   "metadata": {},
   "source": [
    "Nous avons expliqué ce que chacune des fonctions informatiques permettait de faire, puis nous avons continué à travaillé sur l'algorithme d'animation des points et nous cherchons à résoudre nos problèmes de trajectoire de points."
   ]
  },
  {
   "cell_type": "code",
   "execution_count": null,
   "metadata": {
    "collapsed": true
   },
   "outputs": [],
   "source": []
  }
 ],
 "metadata": {
  "kernelspec": {
   "display_name": "Python 3",
   "language": "python",
   "name": "python3"
  },
  "language_info": {
   "codemirror_mode": {
    "name": "ipython",
    "version": 3
   },
   "file_extension": ".py",
   "mimetype": "text/x-python",
   "name": "python",
   "nbconvert_exporter": "python",
   "pygments_lexer": "ipython3",
   "version": "3.4.1"
  }
 },
 "nbformat": 4,
 "nbformat_minor": 0
}
