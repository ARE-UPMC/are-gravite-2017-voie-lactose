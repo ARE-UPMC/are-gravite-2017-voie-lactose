{
 "cells": [
  {
   "cell_type": "markdown",
   "metadata": {},
   "source": [
    "# Brouillon"
   ]
  },
  {
   "cell_type": "markdown",
   "metadata": {},
   "source": [
    "## Programmation"
   ]
  },
  {
   "cell_type": "markdown",
   "metadata": {},
   "source": [
    "Simulation Voie LactÃ©e: un gros point = trou noir . plusieurs points tournant autour = Ã©toiles, nuages . Faire varier la masse apparente et la masse cachÃ©e de la Voie LactÃ©e ( ou n'importe quelle galaxie ). Curseur pour faire varier la masse = comparaison entre systeme via loi de Newton et vrai systÃ¨me observÃ©, pas de masse = Newton , masse en dehors de galaxie (pÃ©riphÃ©rie) = observation"
   ]
  },
  {
   "cell_type": "code",
   "execution_count": 3,
   "metadata": {
    "collapsed": true
   },
   "outputs": [],
   "source": [
    "##Galaxie Ã  deux bras en python\n",
    "\n",
    "import random\n",
    "from math import *\n",
    "from pylab import *\n",
    "import numpy as np\n",
    "\n",
    "n=100000\n",
    "a= 1\n",
    "b=0.6\n",
    "th =np.random.randn(n)\n",
    "x= a*exp(b*th)*cos(th)\n",
    "y=a*exp(b*th)*sin(th)\n",
    "x1 = a*exp(b*(th))*cos(th+ pi)\n",
    "y1=a*exp(b*(th))*sin(th + pi)\n",
    "plot(x,y,\"*\")\n",
    "plot(x1, y1,\"*\")\n",
    "show()"
   ]
  },
  {
   "cell_type": "code",
   "execution_count": null,
   "metadata": {
    "collapsed": true
   },
   "outputs": [],
   "source": []
  }
 ],
 "metadata": {
  "kernelspec": {
   "display_name": "Python 3",
   "language": "python",
   "name": "python3"
  },
  "language_info": {
   "codemirror_mode": {
    "name": "ipython",
    "version": 3
   },
   "file_extension": ".py",
   "mimetype": "text/x-python",
   "name": "python",
   "nbconvert_exporter": "python",
   "pygments_lexer": "ipython3",
   "version": "3.4.1"
  }
 },
 "nbformat": 4,
 "nbformat_minor": 0
}

