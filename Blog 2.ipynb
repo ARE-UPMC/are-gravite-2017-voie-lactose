{
 "cells": [
  {
   "cell_type": "markdown",
   "metadata": {},
   "source": [
    "# La Voie Lactée et la matière noire"
   ]
  },
  {
   "cell_type": "markdown",
   "metadata": {},
   "source": [
    "## Étudiants:"
   ]
  },
  {
   "cell_type": "markdown",
   "metadata": {},
   "source": [
    " Alric Meunier, Benjamin Lanuza, Léo-Paul Decloitre, Antoine Thomas. "
   ]
  },
  {
   "cell_type": "markdown",
   "metadata": {},
   "source": [
    "## Semaine 1"
   ]
  },
  {
   "cell_type": "markdown",
   "metadata": {},
   "source": [
    "Nous avons cherché un angle d'attaque, afin de construire un plan.\n",
    "### Plan\n",
    "#### Introduction\n",
    "   - D'où vient la théorie ?\n",
    "   \n",
    "   - Principe\n",
    "   \n",
    "   - Autres théories\n",
    "    \n",
    "#### Développement\n",
    "   - Comment observer la matière noire ?\n",
    "   \n",
    "   - Quelles sont les interactions entre matière noire et Voie lactée ?\n",
    "     "
   ]
  },
  {
   "cell_type": "markdown",
   "metadata": {},
   "source": [
    "Nous nous sommes réparti les tâches:\n",
    "   - Benjamin se charge de la simulation de la galaxie en python.\n",
    "   \n",
    "   - Alric recherche des informations dans des articles sur internet.\n",
    "   \n",
    "   - Léo-Paul et Antoine s'occupent des observations par le site EU HOU."
   ]
  },
  {
   "cell_type": "markdown",
   "metadata": {
    "collapsed": true
   },
   "source": [
    "## Semaine 2"
   ]
  },
  {
   "cell_type": "markdown",
   "metadata": {},
   "source": [
    "### Physique : \n",
    "Nous avons effectué des calculs permettant de mettre en place la courbe de rotation de la Voie Lactée et de mieux comprendre la mise en place de cette dernière, puis nous avons commencé la mise en place du podcast qui sera sous forme d'un Power Point permettant ainsi d'y insérer des vidéos et commentaires audio par dessus les différentes slides. Nous trions aussi les  vidéos des séances kinesthésique afin de prendre les plus pertinentes dans la mise en place de notre podcast."
   ]
  },
  {
   "cell_type": "markdown",
   "metadata": {},
   "source": [
    "### Informatique : \n",
    "On a commencé par la création d'une fonction permettant de générer, dans un plan, des points (représentant les étoiles) de manière aléatoire. Ainsi on viserai ensuite à créer une fonction permettant de créer les fameux bras de la galaxie, qui nous permettrait ensuite de constituer une prémice à la mise en place de notre programme de simulation de la Voie Lactée."
   ]
  },
  {
   "cell_type": "code",
   "execution_count": null,
   "metadata": {
    "collapsed": true
   },
   "outputs": [],
   "source": []
  }
 ],
 "metadata": {
  "kernelspec": {
   "display_name": "Python 3",
   "language": "python",
   "name": "python3"
  },
  "language_info": {
   "codemirror_mode": {
    "name": "ipython",
    "version": 3
   },
   "file_extension": ".py",
   "mimetype": "text/x-python",
   "name": "python",
   "nbconvert_exporter": "python",
   "pygments_lexer": "ipython3",
   "version": "3.4.1"
  }
 },
 "nbformat": 4,
 "nbformat_minor": 0
}
