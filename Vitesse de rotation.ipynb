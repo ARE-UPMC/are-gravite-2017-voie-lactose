{
 "cells": [
  {
   "cell_type": "code",
   "execution_count": 8,
   "metadata": {
    "collapsed": false
   },
   "outputs": [],
   "source": [
    "from pylab import *\n",
    "import numpy as np \n",
    "from scipy import *\n",
    "V = array([196.94,210,216,221,213])\n",
    "R = array([2.2, 4.25, 6.7, 7.4,8.2])\n",
    "plot(R,V)\n",
    "show()"
   ]
  },
  {
   "cell_type": "code",
   "execution_count": null,
   "metadata": {
    "collapsed": true
   },
   "outputs": [],
   "source": [
    "R0: 6.3,6.7,7.6,8.4,10.3,20.8\n",
    "R1:7.9,9.0,10.7,11.9,14.4,26\n",
    "R2:4.1,3.04,1.4,0.14,-2.35,-13.9\n",
    "    \n",
    "    \n",
    "    \n",
    "    "
   ]
  },
  {
   "cell_type": "code",
   "execution_count": 12,
   "metadata": {
    "collapsed": true
   },
   "outputs": [],
   "source": [
    "from pylab import *\n",
    "import numpy as np \n",
    "from scipy import *\n",
    "R0 = array([6.3,6.7,7.6,8.4,10.3,20.8])\n",
    "R1 = array([7.9,9.0,10.7,11.9,14.4,26])\n",
    "R2 = array([4.1,3.04,1.4,0.14,-2.35,-13.9])\n",
    "\n",
    "plot(,)\n",
    "show()"
   ]
  },
  {
   "cell_type": "code",
   "execution_count": null,
   "metadata": {
    "collapsed": true
   },
   "outputs": [],
   "source": []
  }
 ],
 "metadata": {
  "kernelspec": {
   "display_name": "Python 3",
   "language": "python",
   "name": "python3"
  },
  "language_info": {
   "codemirror_mode": {
    "name": "ipython",
    "version": 3
   },
   "file_extension": ".py",
   "mimetype": "text/x-python",
   "name": "python",
   "nbconvert_exporter": "python",
   "pygments_lexer": "ipython3",
   "version": "3.4.1"
  }
 },
 "nbformat": 4,
 "nbformat_minor": 0
}
