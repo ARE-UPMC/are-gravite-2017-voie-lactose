{
 "cells": [
  {
   "cell_type": "code",
   "execution_count": 34,
   "metadata": {
    "collapsed": true
   },
   "outputs": [],
   "source": [
    "from pylab import *\n",
    "import numpy as np \n",
    "from scipy import *\n",
    "V = array([0,196.94,210,216,221,213])\n",
    "R = array([0,2.2, 4.25, 6.7, 7.4,8.2])\n",
    "plt.title(\"Courbe de vitesse de rotation de la Voie Lactée\")\n",
    "plt.xlabel(\"Degré de longitude de la Voie Lactée\")\n",
    "plt.ylabel(\"Vitesse des étoiles en fonction de leur longitude dans la Voie Lactée\")\n",
    "plot(R,V)\n",
    "show()"
   ]
  },
  {
   "cell_type": "code",
   "execution_count": 2,
   "metadata": {
    "collapsed": false
   },
   "outputs": [
    {
     "ename": "SyntaxError",
     "evalue": "invalid syntax (<ipython-input-2-91cfb07a329c>, line 1)",
     "output_type": "error",
     "traceback": [
      "\u001b[1;36m  File \u001b[1;32m\"<ipython-input-2-91cfb07a329c>\"\u001b[1;36m, line \u001b[1;32m1\u001b[0m\n\u001b[1;33m    R0: 6.3,6.7,7.6,8.4,10.3,20.8\u001b[0m\n\u001b[1;37m      ^\u001b[0m\n\u001b[1;31mSyntaxError\u001b[0m\u001b[1;31m:\u001b[0m invalid syntax\n"
     ]
    }
   ],
   "source": [
    "R0: 6.3,6.7,7.6,8.4,10.3,20.8\n",
    "R1:7.9,9.0,10.7,11.9,14.4,26\n",
    "R2:4.1,3.04,1.4,0.14,-2.35,-13.9"
   ]
  },
  {
   "cell_type": "code",
   "execution_count": null,
   "metadata": {
    "collapsed": true
   },
   "outputs": [],
   "source": [
    "from pylab import *\n",
    "import numpy as np \n",
    "from scipy import *\n",
    "R0 = array([6.3,6.7,7.6,8.4,10.3,20.8])\n",
    "R1 = array([7.9,9.0,10.7,11.9,14.4,26])\n",
    "R2 = array([4.1,3.04,1.4,0.14,-2.35,-13.9])\n",
    "\n",
    "plot(,)\n",
    "show()"
   ]
  },
  {
   "cell_type": "code",
   "execution_count": null,
   "metadata": {
    "collapsed": true
   },
   "outputs": [],
   "source": [
    "R = 8.5*sin(l)\n",
    "V = Vr+220*sin(l)"
   ]
  },
  {
   "cell_type": "code",
   "execution_count": 31,
   "metadata": {
    "collapsed": false
   },
   "outputs": [],
   "source": [
    "import math\n",
    "def fonction_R(l):\n",
    "    LR=[]\n",
    "    r = (2*math.pi)/360\n",
    "    for i in range(0,l):\n",
    "        temp= 8.5*sin(i*r)\n",
    "        if temp >=0:\n",
    "            LR.append(8.5*sin(i*r))\n",
    "    return LR \n"
   ]
  },
  {
   "cell_type": "code",
   "execution_count": 74,
   "metadata": {
    "collapsed": false
   },
   "outputs": [],
   "source": [
    "L = [131,195,151,161,169,185,187,161,125,122,161,154,149,149,148,140,136,135,128,122,119,115,112,102,97,99,101,97,96,101,96,106,97,94,93,88,83,88,81,80,75,62,63,62,62,60,60,58,55,54,50,50,47,49,42,39,37,36,32,31,28,26,23,24,21,19,15,8,6,6,6,5,5,3,2,0]\n",
    "\n",
    "\n",
    "import math\n",
    "def fonction_V(l):\n",
    "    L = [131,195,247,229,224,193,187,172,187,180,161,154,149,149,148,140,136,135,128,122,119,115,112,102,97,99,101,97,96,101,96,106,97,94,93,88,83,88,81,80,75,62,63,62,62,60,60,58,55,54,50,50,47,49,42,39,37,36,32,31,28,26,23,24,21,19,15,8,6,6,6,5,5,3,2,0]\n",
    "    P=[]\n",
    "    r = (2*math.pi)/360\n",
    "    for i in range(0,l):\n",
    "        P.append((L[i]+220*sin(i*r)))\n",
    "    return P\n",
    "    "
   ]
  },
  {
   "cell_type": "code",
   "execution_count": 104,
   "metadata": {
    "collapsed": false
   },
   "outputs": [],
   "source": [
    "from pylab import *\n",
    "import numpy as np \n",
    "from scipy import *\n",
    "R = fonction_R(75)\n",
    "V = fonction_V(75)\n",
    "plt.title(\"Courbe de vitesse de rotation de la Voie Lactée\")\n",
    "plt.xlabel(\"R en kpc\")\n",
    "plt.ylabel(\"Vitesse des étoiles en fonction de leur longitude dans la Voie Lactée\")\n",
    "plot(R,V, 'ro')\n",
    "show()"
   ]
  },
  {
   "cell_type": "code",
   "execution_count": 103,
   "metadata": {
    "collapsed": false
   },
   "outputs": [
    {
     "data": {
      "text/plain": [
       "[8.5,\n",
       " 8.5689411241382629,\n",
       " nan,\n",
       " nan,\n",
       " nan,\n",
       " 8.6707102171982644,\n",
       " 8.730931277612731,\n",
       " 8.9274758079070651,\n",
       " 8.5927838956906335,\n",
       " 8.7007984603804704,\n",
       " 9.0627138696753384,\n",
       " 9.1711070827414325,\n",
       " 9.2430956801428152,\n",
       " 9.1961327428983459,\n",
       " 9.1563549457680828,\n",
       " 9.3057009462786624,\n",
       " 9.3461621765449738,\n",
       " 9.2895841047557077,\n",
       " 9.4235711009306034,\n",
       " 9.5296991974072558,\n",
       " 9.5333034554278289,\n",
       " 9.5704807871651774,\n",
       " 9.5675801266451543,\n",
       " 9.8444211172551537,\n",
       " 9.9291226873215113,\n",
       " 9.7141949961564045,\n",
       " 9.4711090555301123,\n",
       " 9.4979170723763442,\n",
       " 9.3712880868770085,\n",
       " 8.8759855279083961,\n",
       " 8.9544901447756562,\n",
       " 7.6338767189386516,\n",
       " 8.3208858176338456,\n",
       " 8.2497029878584573,\n",
       " 7.9631338886832097,\n",
       " 8.1063626118445438,\n",
       " 8.2332259705921071,\n",
       " nan,\n",
       " 7.6503723072865188,\n",
       " 7.2439978979891126,\n",
       " 7.510228505762985,\n",
       " 8.4780562869613778,\n",
       " 8.0727860193841252,\n",
       " 7.8198012218283051,\n",
       " 7.4182295031867653,\n",
       " 7.2360819815628705,\n",
       " 6.6793802243838192,\n",
       " 6.4216034175321468,\n",
       " 6.4310716578423959,\n",
       " nan,\n",
       " 6.220272053252585,\n",
       " nan,\n",
       " nan,\n",
       " nan,\n",
       " 5.0797890489535487,\n",
       " 5.4657602233097471,\n",
       " 5.2797450624129088,\n",
       " nan,\n",
       " 5.3300611217230092,\n",
       " 4.8303929607312064,\n",
       " 5.1065525932593641,\n",
       " 5.0177487066529523,\n",
       " 5.1887608476532181,\n",
       " nan,\n",
       " 4.5490809166326107,\n",
       " 4.5300693712012619,\n",
       " 4.9624185387175901,\n",
       " 5.6968014143537715,\n",
       " 5.6476666356027341,\n",
       " 5.3342779802185802,\n",
       " 5.0127769457954425,\n",
       " 4.8424496039886433,\n",
       " 4.5150595391157209,\n",
       " 4.5244678200395221,\n",
       " 4.3780666255122807]"
      ]
     },
     "execution_count": 103,
     "metadata": {},
     "output_type": "execute_result"
    }
   ],
   "source": [
    "fonction_R1(75)"
   ]
  },
  {
   "cell_type": "code",
   "execution_count": 101,
   "metadata": {
    "collapsed": false
   },
   "outputs": [],
   "source": [
    "import math\n",
    "def fonction_R1(l):\n",
    "    L = [131,195,247,229,224,193,187,172,187,180,161,154,149,149,148,140,136,135,128,122,119,115,112,102,97,99,101,97,96,101,96,106,97,94,93,88,83,88,81,80,75,62,63,62,62,60,60,58,55,54,50,50,47,49,42,39,37,36,32,31,28,26,23,24,21,19,15,8,6,6,6,5,5,3,2,0]\n",
    "    LR=[]\n",
    "    r= (2*math.pi)/360\n",
    "    for i in range(0,l):\n",
    "        LR.append(8.5*cos(i*r)+((((220*8.5*sin(i*r))/(220*sin(i*r)+L[i]))**2-(8.5*sin(i*r))**2)**0.5))           \n",
    "    return LR"
   ]
  },
  {
   "cell_type": "code",
   "execution_count": 112,
   "metadata": {
    "collapsed": true
   },
   "outputs": [],
   "source": [
    "def fonction_R2(l):\n",
    "    L = [131,195,247,229,224,193,187,172,187,180,161,154,149,149,148,140,136,135,128,122,119,115,112,102,97,99,101,97,96,101,96,106,97,94,93,88,83,88,81,80,75,62,63,62,62,60,60,58,55,54,50,50,47,49,42,39,37,36,32,31,28,26,23,24,21,19,15,8,6,6,6,5,5,3,2,0]\n",
    "    LS=[]\n",
    "    r= (2*math.pi)/360\n",
    "    for i in range(0,l):\n",
    "          LS.append(8.5*cos(i*r)-((((220*8.5*sin(i*r))/(220*sin(i*r)+L[i]))**2-(8.5*sin(i*r))**2)**0.5))\n",
    "    return LS"
   ]
  },
  {
   "cell_type": "code",
   "execution_count": null,
   "metadata": {
    "collapsed": false
   },
   "outputs": [],
   "source": [
    "from pylab import *\n",
    "import numpy as np \n",
    "from scipy import *\n",
    "R = fonction_R(75)\n",
    "R1 = fonction_R1(75)\n",
    "R2 = fonction_R2(75)\n",
    "plot(R,R1, 'ro')\n",
    "plot(R,R2, 'bo')\n",
    "show()"
   ]
  },
  {
   "cell_type": "code",
   "execution_count": null,
   "metadata": {
    "collapsed": true
   },
   "outputs": [],
   "source": []
  }
 ],
 "metadata": {
  "kernelspec": {
   "display_name": "Python 3",
   "language": "python",
   "name": "python3"
  },
  "language_info": {
   "codemirror_mode": {
    "name": "ipython",
    "version": 3
   },
   "file_extension": ".py",
   "mimetype": "text/x-python",
   "name": "python",
   "nbconvert_exporter": "python",
   "pygments_lexer": "ipython3",
   "version": "3.4.1"
  }
 },
 "nbformat": 4,
 "nbformat_minor": 0
}
