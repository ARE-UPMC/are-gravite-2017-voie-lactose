{
 "cells": [
  {
   "cell_type": "code",
   "execution_count": 34,
   "metadata": {
    "collapsed": true
   },
   "outputs": [],
   "source": [
    "from pylab import *\n",
    "import numpy as np \n",
    "from scipy import *\n",
    "V = array([0,196.94,210,216,221,213])\n",
    "R = array([0,2.2, 4.25, 6.7, 7.4,8.2])\n",
    "plt.title(\"Courbe de vitesse de rotation de la Voie Lactée\")\n",
    "plt.xlabel(\"Degré de longitude de la Voie Lactée\")\n",
    "plt.ylabel(\"Vitesse des étoiles en fonction de leur longitude dans la Voie Lactée\")\n",
    "plot(R,V)\n",
    "show()"
   ]
  },
  {
   "cell_type": "code",
   "execution_count": 2,
   "metadata": {
    "collapsed": false
   },
   "outputs": [
    {
     "ename": "SyntaxError",
     "evalue": "invalid syntax (<ipython-input-2-91cfb07a329c>, line 1)",
     "output_type": "error",
     "traceback": [
      "\u001b[1;36m  File \u001b[1;32m\"<ipython-input-2-91cfb07a329c>\"\u001b[1;36m, line \u001b[1;32m1\u001b[0m\n\u001b[1;33m    R0: 6.3,6.7,7.6,8.4,10.3,20.8\u001b[0m\n\u001b[1;37m      ^\u001b[0m\n\u001b[1;31mSyntaxError\u001b[0m\u001b[1;31m:\u001b[0m invalid syntax\n"
     ]
    }
   ],
   "source": [
    "R0: 6.3,6.7,7.6,8.4,10.3,20.8\n",
    "R1:7.9,9.0,10.7,11.9,14.4,26\n",
    "R2:4.1,3.04,1.4,0.14,-2.35,-13.9"
   ]
  },
  {
   "cell_type": "code",
   "execution_count": null,
   "metadata": {
    "collapsed": true
   },
   "outputs": [],
   "source": [
    "from pylab import *\n",
    "import numpy as np \n",
    "from scipy import *\n",
    "R0 = array([6.3,6.7,7.6,8.4,10.3,20.8])\n",
    "R1 = array([7.9,9.0,10.7,11.9,14.4,26])\n",
    "R2 = array([4.1,3.04,1.4,0.14,-2.35,-13.9])\n",
    "\n",
    "plot(,)\n",
    "show()"
   ]
  },
  {
   "cell_type": "code",
   "execution_count": null,
   "metadata": {
    "collapsed": true
   },
   "outputs": [],
   "source": [
    "R = 8.5*sin(l)\n",
    "V = Vr+220*sin(l)"
   ]
  },
  {
   "cell_type": "code",
   "execution_count": 31,
   "metadata": {
    "collapsed": false
   },
   "outputs": [],
   "source": [
    "import math\n",
    "def fonction_R(l):\n",
    "    LR=[]\n",
    "    r = (2*math.pi)/360\n",
    "    for i in range(0,l):\n",
    "        temp= 8.5*sin(i*r)\n",
    "        if temp >=0:\n",
    "            LR.append(8.5*sin(i*r))\n",
    "    return LR \n"
   ]
  },
  {
   "cell_type": "code",
   "execution_count": 74,
   "metadata": {
    "collapsed": false
   },
   "outputs": [],
   "source": [
    "L = [131,195,151,161,169,185,187,161,125,122,161,154,149,149,148,140,136,135,128,122,119,115,112,102,97,99,101,97,96,101,96,106,97,94,93,88,83,88,81,80,75,62,63,62,62,60,60,58,55,54,50,50,47,49,42,39,37,36,32,31,28,26,23,24,21,19,15,8,6,6,6,5,5,3,2,0]\n",
    "\n",
    "\n",
    "import math\n",
    "def fonction_V(l):\n",
    "    L = [131,195,247,229,224,193,187,172,187,180,161,154,149,149,148,140,136,135,128,122,119,115,112,102,97,99,101,97,96,101,96,106,97,94,93,88,83,88,81,80,75,62,63,62,62,60,60,58,55,54,50,50,47,49,42,39,37,36,32,31,28,26,23,24,21,19,15,8,6,6,6,5,5,3,2,0]\n",
    "    P=[]\n",
    "    r = (2*math.pi)/360\n",
    "    for i in range(0,l):\n",
    "        P.append((L[i]+220*sin(i*r)))\n",
    "    return P\n",
    "    "
   ]
  },
  {
   "cell_type": "code",
   "execution_count": 78,
   "metadata": {
    "collapsed": false
   },
   "outputs": [],
   "source": [
    "from pylab import *\n",
    "import numpy as np \n",
    "from scipy import *\n",
    "R = fonction_R(75)\n",
    "V = fonction_V(75)\n",
    "plt.title(\"Courbe de vitesse de rotation de la Voie Lactée\")\n",
    "plt.xlabel(\"R en kpc\")\n",
    "plt.ylabel(\"Vitesse des étoiles en fonction de leur longitude dans la Voie Lactée\")\n",
    "plot(R,V, 'ro')\n",
    "show()"
   ]
  },
  {
   "cell_type": "code",
   "execution_count": null,
   "metadata": {
    "collapsed": true
   },
   "outputs": [],
   "source": []
  }
 ],
 "metadata": {
  "kernelspec": {
   "display_name": "Python 3",
   "language": "python",
   "name": "python3"
  },
  "language_info": {
   "codemirror_mode": {
    "name": "ipython",
    "version": 3
   },
   "file_extension": ".py",
   "mimetype": "text/x-python",
   "name": "python",
   "nbconvert_exporter": "python",
   "pygments_lexer": "ipython3",
   "version": "3.4.1"
  }
 },
 "nbformat": 4,
 "nbformat_minor": 0
}
