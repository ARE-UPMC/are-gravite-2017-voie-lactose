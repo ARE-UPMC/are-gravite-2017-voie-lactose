{
 "cells": [
  {
   "cell_type": "code",
   "execution_count": 34,
   "metadata": {
    "collapsed": true
   },
   "outputs": [],
   "source": [
    "from pylab import *\n",
    "import numpy as np \n",
    "from scipy import *\n",
    "V = array([0,196.94,210,216,221,213])\n",
    "R = array([0,2.2, 4.25, 6.7, 7.4,8.2])\n",
    "plt.title(\"Courbe de vitesse de rotation de la Voie Lactée\")\n",
    "plt.xlabel(\"Degré de longitude de la Voie Lactée\")\n",
    "plt.ylabel(\"Vitesse des étoiles en fonction de leur longitude dans la Voie Lactée\")\n",
    "plot(R,V)\n",
    "show()"
   ]
  },
  {
   "cell_type": "code",
   "execution_count": 2,
   "metadata": {
    "collapsed": false
   },
   "outputs": [
    {
     "ename": "SyntaxError",
     "evalue": "invalid syntax (<ipython-input-2-91cfb07a329c>, line 1)",
     "output_type": "error",
     "traceback": [
      "\u001b[1;36m  File \u001b[1;32m\"<ipython-input-2-91cfb07a329c>\"\u001b[1;36m, line \u001b[1;32m1\u001b[0m\n\u001b[1;33m    R0: 6.3,6.7,7.6,8.4,10.3,20.8\u001b[0m\n\u001b[1;37m      ^\u001b[0m\n\u001b[1;31mSyntaxError\u001b[0m\u001b[1;31m:\u001b[0m invalid syntax\n"
     ]
    }
   ],
   "source": [
    "R0: 6.3,6.7,7.6,8.4,10.3,20.8\n",
    "R1:7.9,9.0,10.7,11.9,14.4,26\n",
    "R2:4.1,3.04,1.4,0.14,-2.35,-13.9"
   ]
  },
  {
   "cell_type": "code",
   "execution_count": null,
   "metadata": {
    "collapsed": true
   },
   "outputs": [],
   "source": [
    "from pylab import *\n",
    "import numpy as np \n",
    "from scipy import *\n",
    "R0 = array([6.3,6.7,7.6,8.4,10.3,20.8])\n",
    "R1 = array([7.9,9.0,10.7,11.9,14.4,26])\n",
    "R2 = array([4.1,3.04,1.4,0.14,-2.35,-13.9])\n",
    "\n",
    "plot(,)\n",
    "show()"
   ]
  },
  {
   "cell_type": "code",
   "execution_count": null,
   "metadata": {
    "collapsed": true
   },
   "outputs": [],
   "source": [
    "R = 8.5*sin(l)\n",
    "V = Vr+220*sin(l)"
   ]
  },
  {
   "cell_type": "code",
   "execution_count": 31,
   "metadata": {
    "collapsed": false
   },
   "outputs": [],
   "source": [
    "import math\n",
    "def fonction_R(l):\n",
    "    LR=[]\n",
    "    r = (2*math.pi)/360\n",
    "    for i in range(0,l):\n",
    "        temp= 8.5*sin(i*r)\n",
    "        if temp >=0:\n",
    "            LR.append(8.5*sin(i*r))\n",
    "    return LR \n"
   ]
  },
  {
   "cell_type": "code",
   "execution_count": 74,
   "metadata": {
    "collapsed": false
   },
   "outputs": [],
   "source": [
    "L = [131,195,151,161,169,185,187,161,125,122,161,154,149,149,148,140,136,135,128,122,119,115,112,102,97,99,101,97,96,101,96,106,97,94,93,88,83,88,81,80,75,62,63,62,62,60,60,58,55,54,50,50,47,49,42,39,37,36,32,31,28,26,23,24,21,19,15,8,6,6,6,5,5,3,2,0]\n",
    "\n",
    "\n",
    "import math\n",
    "def fonction_V(l):\n",
    "    L = [131,195,247,229,224,193,187,172,187,180,161,154,149,149,148,140,136,135,128,122,119,115,112,102,97,99,101,97,96,101,96,106,97,94,93,88,83,88,81,80,75,62,63,62,62,60,60,58,55,54,50,50,47,49,42,39,37,36,32,31,28,26,23,24,21,19,15,8,6,6,6,5,5,3,2,0]\n",
    "    P=[]\n",
    "    r = (2*math.pi)/360\n",
    "    for i in range(0,l):\n",
    "        P.append((L[i]+220*sin(i*r)))\n",
    "    return P\n",
    "    "
   ]
  },
  {
   "cell_type": "code",
   "execution_count": 42,
   "metadata": {
    "collapsed": false
   },
   "outputs": [
    {
     "data": {
      "text/plain": [
       "76"
      ]
     },
     "execution_count": 42,
     "metadata": {},
     "output_type": "execute_result"
    }
   ],
   "source": [
    "L = [200,195,190,191,169,185,187,161,125,122,161,154,149,149,148,140,136,135,128,122,119,115,112,102,97,99,101,97,96,101,96,106,97,94,93,88,83,88,81,80,75,62,63,62,62,60,60,58,55,54,50,50,47,49,42,39,37,36,32,31,28,26,23,24,21,19,15,8,6,6,6,5,5,3,2,0]\n",
    "\n",
    "len(L)"
   ]
  },
  {
   "cell_type": "code",
   "execution_count": 68,
   "metadata": {
    "collapsed": false
   },
   "outputs": [
    {
     "data": {
      "text/plain": [
       "[131.0,\n",
       " 198.83952941620237,\n",
       " 158.67788927455021,\n",
       " 172.51391037344763,\n",
       " 184.34642422370757,\n",
       " 204.1742634044848,\n",
       " 209.99626191888376,\n",
       " 187.81125554913245,\n",
       " 155.61808221121439,\n",
       " 156.41558230885079,\n",
       " 199.20259908672466,\n",
       " 195.97797898283986,\n",
       " 194.74057197990706,\n",
       " 198.4892319556503,\n",
       " 201.22281703192689,\n",
       " 196.94018992255457,\n",
       " 196.64021827973983,\n",
       " 199.32177503900209,\n",
       " 195.98373876248843,\n",
       " 193.62499398057446,\n",
       " 194.24443153164714,\n",
       " 193.84094889996607,\n",
       " 194.41345055150066,\n",
       " 187.96084826764024,\n",
       " 186.48206147667605,\n",
       " 191.97601758295389,\n",
       " 197.44165229359703,\n",
       " 196.87790994270028,\n",
       " 199.28374381289598,\n",
       " 207.65811645419416,\n",
       " 206.0,\n",
       " 219.3083764802119,\n",
       " 213.58223813130508,\n",
       " 213.82058770330596,\n",
       " 216.02243876356431,\n",
       " 214.18681599723013,\n",
       " 212.3127555043441,\n",
       " 220.39930509345061,\n",
       " 216.44552457164482,\n",
       " 218.45048603096421,\n",
       " 216.41327413103863,\n",
       " 206.3329863779116,\n",
       " 210.20873339894882,\n",
       " 212.03963921374967,\n",
       " 214.8248415009794,\n",
       " 215.56349186104043,\n",
       " 218.25475607450323,\n",
       " 218.89781435621751,\n",
       " 218.49186160502674,\n",
       " 220.03610764900984,\n",
       " 218.52977748617516,\n",
       " 220.97211152053359,\n",
       " 220.36236579347883,\n",
       " 224.69981221040442,\n",
       " 219.98373876248843,\n",
       " 219.2134497435782,\n",
       " 219.38826596210919,\n",
       " 220.50752494799329,\n",
       " 218.5705811544137,\n",
       " 219.57680615446472,\n",
       " 218.52558883257649,\n",
       " 218.41633557066706,\n",
       " 217.24847042896391,\n",
       " 220.02143532144092,\n",
       " 218.73469018581676,\n",
       " 218.387713148063,\n",
       " 215.98000068137219,\n",
       " 210.51106775953687,\n",
       " 209.98044800469324,\n",
       " 211.38769382938438,\n",
       " 212.73237657289982,\n",
       " 213.01408663184969,\n",
       " 214.23243358493377,\n",
       " 213.38704631186781,\n",
       " 213.47757310643016]"
      ]
     },
     "execution_count": 68,
     "metadata": {},
     "output_type": "execute_result"
    }
   ],
   "source": [
    "fonction_V(75)\n",
    "\n"
   ]
  },
  {
   "cell_type": "code",
   "execution_count": null,
   "metadata": {
    "collapsed": true
   },
   "outputs": [],
   "source": []
  },
  {
   "cell_type": "code",
   "execution_count": null,
   "metadata": {
    "collapsed": false
   },
   "outputs": [],
   "source": [
    "from pylab import *\n",
    "import numpy as np \n",
    "from scipy import *\n",
    "R = fonction_R(75)\n",
    "V = fonction_V(75)\n",
    "plt.title(\"Courbe de vitesse de rotation de la Voie Lactée\")\n",
    "plt.xlabel(\"R en kpc\")\n",
    "plt.ylabel(\"Vitesse des étoiles en fonction de leur longitude dans la Voie Lactée\")\n",
    "plot(R,V, 'ro')\n",
    "show()"
   ]
  },
  {
   "cell_type": "code",
   "execution_count": null,
   "metadata": {
    "collapsed": true
   },
   "outputs": [],
   "source": []
  }
 ],
 "metadata": {
  "kernelspec": {
   "display_name": "Python 3",
   "language": "python",
   "name": "python3"
  },
  "language_info": {
   "codemirror_mode": {
    "name": "ipython",
    "version": 3
   },
   "file_extension": ".py",
   "mimetype": "text/x-python",
   "name": "python",
   "nbconvert_exporter": "python",
   "pygments_lexer": "ipython3",
   "version": "3.4.1"
  }
 },
 "nbformat": 4,
 "nbformat_minor": 0
}
