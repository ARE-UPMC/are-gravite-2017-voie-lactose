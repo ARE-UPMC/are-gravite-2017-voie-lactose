{
 "cells": [
  {
   "cell_type": "markdown",
   "metadata": {},
   "source": [
    "# Programme informatique : Courbe de vitesse de rotation "
   ]
  },
  {
   "cell_type": "code",
   "execution_count": 1,
   "metadata": {
    "collapsed": true
   },
   "outputs": [],
   "source": [
    "import math\n",
    "def fonction_R(l):\n",
    "    LR=[]\n",
    "    r = (2*math.pi)/360\n",
    "    for i in range(0,l):\n",
    "        temp= 8.5*sin(i*r)\n",
    "        if temp >=0:\n",
    "            LR.append(8.5*sin(i*r))\n",
    "    return LR"
   ]
  },
  {
   "cell_type": "markdown",
   "metadata": {},
   "source": [
    "## Fonction permettant de calculer différentes distances de nuages de gazs grâce à la longitude galactique et à la distance entre le Soleil et le centre galactique."
   ]
  },
  {
   "cell_type": "code",
   "execution_count": 2,
   "metadata": {
    "collapsed": true
   },
   "outputs": [],
   "source": [
    "L = [131,195,151,161,169,185,187,161,125,122,161,154,149,149,148,140,136,135,128,122,119,115,112,102,97,99,101,97,96,101,96,106,97,94,93,88,83,88,81,80,75,62,63,62,62,60,60,58,55,54,50,50,47,49,42,39,37,36,32,31,28,26,23,24,21,19,15,8,6,6,6,5,5,3,2,0]\n",
    "\n",
    "\n",
    "import math\n",
    "def fonction_V(l):\n",
    "    L = [131,195,247,229,224,193,187,172,187,180,161,154,149,149,148,140,136,135,128,122,119,115,112,102,97,99,101,97,96,101,96,106,97,94,93,88,83,88,81,80,75,62,63,62,62,60,60,58,55,54,50,50,47,49,42,39,37,36,32,31,28,26,23,24,21,19,15,8,6,6,6,5,5,3,2,0]\n",
    "    P=[]\n",
    "    r = (2*math.pi)/360\n",
    "    for i in range(0,l):\n",
    "        P.append((L[i]+220*sin(i*r)))\n",
    "    return P\n"
   ]
  },
  {
   "cell_type": "markdown",
   "metadata": {},
   "source": [
    "## Fonction permettant de calculer les différentes vitesses des nuages de gazs grâce à la longitude galactique et à la vitesse du Soleil autour du centre galactique."
   ]
  },
  {
   "cell_type": "code",
   "execution_count": 3,
   "metadata": {
    "collapsed": true
   },
   "outputs": [],
   "source": [
    "from pylab import *\n",
    "import numpy as np \n",
    "from scipy import *\n",
    "R = fonction_R(75)\n",
    "V = fonction_V(75)\n",
    "plt.title(\"Courbe de vitesse de rotation de la Voie Lactée\")\n",
    "plt.xlabel(\"R en kpc\")\n",
    "plt.ylabel(\"Vitesse des étoiles en fonction de leur longitude dans la Voie Lactée\")\n",
    "plot(R,V, 'ro')\n",
    "show()"
   ]
  },
  {
   "cell_type": "markdown",
   "metadata": {},
   "source": [
    "## Graphique de la courbe de vitesse de rotation de la Voie Lactée. "
   ]
  },
  {
   "cell_type": "markdown",
   "metadata": {},
   "source": [
    "# Programme informatique : Bras de la galaxie avec représentation de certains nuage de gazs"
   ]
  },
  {
   "cell_type": "code",
   "execution_count": 4,
   "metadata": {
    "collapsed": true
   },
   "outputs": [],
   "source": [
    "import math\n",
    "def fonction_R1(l):\n",
    "    L = [131,195,247,229,224,193,187,172,187,180,161,154,149,149,148,140,136,135,128,122,119,115,112,102,97,99,101,97,96,101,96,106,97,94,93,88,83,88,81,80,75,62,63,62,62,60,60,58,55,54,50,50,47,49,42,39,37,36,32,31,28,26,23,24,21,19,15,8,6,6,6,5,5,3,2,0]\n",
    "    LR=[]\n",
    "    r= (2*math.pi)/360\n",
    "    for i in range(0,l):\n",
    "        LR.append(8.5*cos(i*r)+((((220*8.5*sin(i*r))/(220*sin(i*r)+L[i]))**2-(8.5*sin(i*r))**2)**0.5))           \n",
    "    return LR"
   ]
  },
  {
   "cell_type": "code",
   "execution_count": 5,
   "metadata": {
    "collapsed": true
   },
   "outputs": [],
   "source": [
    "def fonction_R2(l):\n",
    "    L = [131,195,247,229,224,193,187,172,187,180,161,154,149,149,148,140,136,135,128,122,119,115,112,102,97,99,101,97,96,101,96,106,97,94,93,88,83,88,81,80,75,62,63,62,62,60,60,58,55,54,50,50,47,49,42,39,37,36,32,31,28,26,23,24,21,19,15,8,6,6,6,5,5,3,2,0]\n",
    "    LS=[]\n",
    "    r= (2*math.pi)/360\n",
    "    for i in range(0,l):\n",
    "          LS.append(8.5*cos(i*r)-((((220*8.5*sin(i*r))/(220*sin(i*r)+L[i]))**2-(8.5*sin(i*r))**2)**0.5))\n",
    "    return LS"
   ]
  },
  {
   "cell_type": "markdown",
   "metadata": {},
   "source": [
    "## Fonction permettant de mettre en place la position de nuages de gazs."
   ]
  },
  {
   "cell_type": "code",
   "execution_count": 6,
   "metadata": {
    "collapsed": true
   },
   "outputs": [],
   "source": [
    "from pylab import *\n",
    "import numpy as np \n",
    "from scipy import *\n",
    "\n",
    "def spiralex(t, k):\n",
    "    x= []\n",
    "    i=0\n",
    "    while i<t:\n",
    "        x.append((i*math.cos(5+i)))\n",
    "        i = i + k\n",
    "    return x\n",
    "\n",
    "def spiraley(t, k):\n",
    "    y=[]\n",
    "    i=0\n",
    "    while i<t:\n",
    "        y.append((i*math.sin(5+i)))\n",
    "        i=i+k\n",
    "    return y\n",
    "\n",
    "def spiralex2(t, k):\n",
    "    x= []\n",
    "    y = []\n",
    "    i=0\n",
    "    while i<t:\n",
    "        x.append((i*math.cos(i+(5-3.14))))\n",
    "        i = i + k\n",
    "    return x\n",
    "\n",
    "def spiraley2(t, k):\n",
    "    y=[]\n",
    "    i=0\n",
    "    while i<t:\n",
    "        y.append((i*math.sin(i+(5-3.14))))\n",
    "        i=i + k\n",
    "    return y\n",
    "\n",
    "\n",
    "\n",
    "R = fonction_R(75)\n",
    "R1 = fonction_R1(75)\n",
    "R2 = fonction_R2(75)\n",
    "plot(R,R1, 'ro', label='Nuages de gaz')\n",
    "plot(R,R2, 'bo', label='Nuages de gaz')\n",
    "x=spiralex2(10, 0.1)\n",
    "y=spiraley2(10,0.1)\n",
    "u=spiralex(10, 0.1)\n",
    "v=spiraley(10, 0.1)\n",
    "plt.plot(x, y, 'k', label='Spirale')\n",
    "plt.plot(u, v, 'k')\n",
    "theta = np.linspace(0, 2*np.pi, 40)\n",
    "circle = plt.Circle((0, 0), radius=0.75, fc='k', label=\"Trou Noir (pas à l'échelle)\")\n",
    "plt.gca().add_patch(circle)\n",
    "plt.xlabel('kPc')\n",
    "plt.ylabel('kPc')\n",
    "legend(loc='upper left')\n",
    "plt.grid()\n",
    "plt.axis([-10, 10, -10, 10])\n",
    "plt.show()\n",
    "show()"
   ]
  },
  {
   "cell_type": "markdown",
   "metadata": {},
   "source": [
    "## Graphique représentant des bras spiraux de la galaxie avec la représentation de nuages de gazs."
   ]
  }
 ],
 "metadata": {
  "kernelspec": {
   "display_name": "Python 3",
   "language": "python",
   "name": "python3"
  },
  "language_info": {
   "codemirror_mode": {
    "name": "ipython",
    "version": 3
   },
   "file_extension": ".py",
   "mimetype": "text/x-python",
   "name": "python",
   "nbconvert_exporter": "python",
   "pygments_lexer": "ipython3",
   "version": "3.4.1"
  }
 },
 "nbformat": 4,
 "nbformat_minor": 0
}
